{
 "cells": [
  {
   "cell_type": "markdown",
   "id": "0eea1e7b-c493-41a0-b0c3-6fe6d9c89794",
   "metadata": {},
   "source": [
    "#Python Basics"
   ]
  },
  {
   "cell_type": "raw",
   "id": "defaefde-3391-4cb2-a909-470b51383416",
   "metadata": {},
   "source": [
    "1.What is Python, and why is it popular?\n",
    "  -> It is a computer programming language often used to build websites and software, automate tasks, analyse data.\n",
    "      It is popular because of-:\n",
    "      1.Ease of learning 2.Versatility 3.Extensive libraries and frameworks 4.Community support 5.Platform independence 6.Integration capabilities               7.Support for rapid development 8.Job market demand"
   ]
  },
  {
   "cell_type": "raw",
   "id": "6e3baff1-395f-4aab-bef6-bcaf45438d1b",
   "metadata": {},
   "source": [
    "2.What is an interpreter in Python?\n",
    "  -> A computer program that converts each high-level program statement into machine code."
   ]
  },
  {
   "cell_type": "raw",
   "id": "ca086dd1-90b7-4b09-976e-ad505c0f250f",
   "metadata": {},
   "source": [
    "3.What are pre-defined keywords in Python?\n",
    "  -> The pre-defined keywords in Python are-:\n",
    "      False               class               from                or\n",
    "None                continue            global              pass\n",
    "True                def                 if                  raise\n",
    "and                 del                 import              return\n",
    "as                  elif                in                  try\n",
    "assert              else                is                  while\n",
    "async               except              lambda              with\n",
    "await               finally             nonlocal            yield\n",
    "break               for                 not \n"
   ]
  },
  {
   "cell_type": "raw",
   "id": "4e63f8b2-1422-42e1-afca-664ba63d8228",
   "metadata": {},
   "source": [
    "4.Can keywords be used as variable names?\n",
    "  -> No keywords cannot be used as variable names."
   ]
  },
  {
   "cell_type": "raw",
   "id": "e7fc6952-e232-4053-bd44-1dafcf382a4c",
   "metadata": {},
   "source": [
    "5.What is mutability in Python?\n",
    "  -> In Python mutability refers to the capability of an object to be changed or modified after its creation."
   ]
  },
  {
   "cell_type": "raw",
   "id": "f8f07b04-f315-426d-865b-5ac61143c56d",
   "metadata": {},
   "source": [
    "6.Why are lists mutable, but tuples are immutable?\n",
    "  -> The lists are mutable because their content can be changed or modified but tuples are immutable because their content cannot be changed or              modified."
   ]
  },
  {
   "cell_type": "raw",
   "id": "7684ce7e-3038-4878-ba45-448dd9cef857",
   "metadata": {},
   "source": [
    "7.What is the difference between “==” and “is” operators in Python?\n",
    "  -> The main difference between \"==\" and \"is\" operators in Python is that\"==\" compares the equality of objects, while \"is\" compares the identity of         objects. "
   ]
  },
  {
   "cell_type": "raw",
   "id": "1f47d099-6dd9-454f-81b5-cbfa35d65d63",
   "metadata": {},
   "source": [
    "8.What are logical operators in Python?\n",
    "  -> Logical operators in Python are used to combine multiple conditions together and evaluate them as a single boolean expression."
   ]
  },
  {
   "cell_type": "raw",
   "id": "ac5d872d-8277-4ceb-9c04-465fdcfeee3b",
   "metadata": {},
   "source": [
    "9.What is type casting in Python?\n",
    "  -> The method to convert the Python variable data type into a certain data type in order to perform the required operation by users."
   ]
  },
  {
   "cell_type": "raw",
   "id": "b1748c68-b0a7-4c2b-983a-1928fb4af8ec",
   "metadata": {},
   "source": [
    "10.What is the difference between implicit and explicit type casting?\n",
    "   -> The main difference between implicit and explicit type casting is that implicit type casting is automatic, while explicit type casting requires         manual intervention."
   ]
  },
  {
   "cell_type": "raw",
   "id": "180a80d8-dd19-46aa-9c8e-ed952c308573",
   "metadata": {},
   "source": [
    "11.What is the purpose of conditional statements in Python?\n",
    "   -> The purpose of conditional statement inPython is to allow programs to make decision based on conditions. They determine the flow of code                execution by evaluating a condition and executing a block of code if the condition is true."
   ]
  },
  {
   "cell_type": "raw",
   "id": "5fb5c2fa-6169-4ab5-8348-cf98edc2d5f4",
   "metadata": {},
   "source": [
    "12.How does the elif statement work?\n",
    "   -> In Python, elif is short for \"else if\" and is used when the first if statement isn't true, but you want to check for another condition."
   ]
  },
  {
   "cell_type": "raw",
   "id": "33474432-0ad3-4556-8a7a-4ef0540a93b6",
   "metadata": {},
   "source": [
    "13.What is the difference between for and while loops?\n",
    "   -> The main difference between a for loop and a while loop is that a for loop is used when you know how many times to repeat a block of code, where \n",
    "      a while loop is used when you don't."
   ]
  },
  {
   "cell_type": "raw",
   "id": "0b10e3d3-52c3-4f1d-af9d-673d78df6182",
   "metadata": {},
   "source": [
    "14.Describe a scenario where a while loop is more suitable than a for loop.\n",
    "   -> In contrast to a \"for\" loop, which is generally used when the number of iterations is known beforehand, a\"while\" loop is ideal for situations           where the number of iterations is not predetermined and depends on some dynamic conditions."
   ]
  },
  {
   "cell_type": "raw",
   "id": "71434ec5-065a-42fa-a8cc-d87c8d524857",
   "metadata": {},
   "source": [
    " 1.Write a Python program to print \"Hello, World!_"
   ]
  },
  {
   "cell_type": "code",
   "execution_count": 18,
   "id": "1b0158ad-45ee-4535-82d6-77e654b4988c",
   "metadata": {},
   "outputs": [
    {
     "name": "stdout",
     "output_type": "stream",
     "text": [
      "Hello, World!\n"
     ]
    }
   ],
   "source": [
    "print('Hello, World!')"
   ]
  },
  {
   "cell_type": "raw",
   "id": "6c8a653c-76d8-4308-a33d-51de7943c045",
   "metadata": {},
   "source": [
    "2.Write a Python program that displays your name and age."
   ]
  },
  {
   "cell_type": "code",
   "execution_count": 36,
   "id": "5bed6079-08a8-4338-beb1-1ce319865f2b",
   "metadata": {},
   "outputs": [
    {
     "name": "stdin",
     "output_type": "stream",
     "text": [
      "Please Enter Your Name :  Rahul Raj\n",
      "Please Enter Your Age :  18\n"
     ]
    }
   ],
   "source": [
    "name = input(\"Please Enter Your Name : \")\n",
    "age = int(input(\"Please Enter Your Age : \"))"
   ]
  },
  {
   "cell_type": "raw",
   "id": "25d5b936-44c1-4924-b309-ade824c95040",
   "metadata": {},
   "source": [
    "3. Write code to print all the pre-defined keywords in Python using the keyword library."
   ]
  },
  {
   "cell_type": "code",
   "execution_count": 50,
   "id": "a5c2de3b-eb0b-481e-95ff-0ebc5e201d43",
   "metadata": {},
   "outputs": [
    {
     "name": "stdout",
     "output_type": "stream",
     "text": [
      "['False', 'None', 'True', 'and', 'as', 'assert', 'async', 'await', 'break', 'class', 'continue', 'def', 'del', 'elif', 'else', 'except', 'finally', 'for', 'from', 'global', 'if', 'import', 'in', 'is', 'lambda', 'nonlocal', 'not', 'or', 'pass', 'raise', 'return', 'try', 'while', 'with', 'yield']\n"
     ]
    }
   ],
   "source": [
    "import keyword as kw\n",
    "print (kw.kwlist)"
   ]
  },
  {
   "cell_type": "raw",
   "id": "7b016d8c-67d0-4dc2-86dc-cbaa73a0c634",
   "metadata": {},
   "source": [
    "4.Write a program that checks if a given word is a Python keyword."
   ]
  },
  {
   "cell_type": "code",
   "execution_count": 1,
   "id": "8f55628b-5b15-47d0-b261-047e283d1c0b",
   "metadata": {},
   "outputs": [],
   "source": [
    "def is_python_keyword(word):\n",
    "    return keyword.iskeyword(word)\n",
    "    word =input (f\"'enter a word to check if it is a python keyword: \")\n",
    "    print(f\"'(word)'is a python keyword.\")"
   ]
  },
  {
   "cell_type": "raw",
   "id": "5ae04764-64c8-4be6-97c4-b318ba2d083a",
   "metadata": {},
   "source": []
  },
  {
   "cell_type": "raw",
   "id": "7c1f994a-009b-48ac-ab35-7d676513bc8d",
   "metadata": {},
   "source": [
    "5. Create a list and tuple in Python, and demonstrate how attempting to change an element works differently for each."
   ]
  },
  {
   "cell_type": "code",
   "execution_count": 87,
   "id": "10a19eb6-bf66-44bd-a4e7-ba1cfae19e33",
   "metadata": {},
   "outputs": [],
   "source": [
    "#creating a list and a tuple\n",
    "my_list=[1,2,3]\n",
    "my_tuple=(1,2,3)"
   ]
  },
  {
   "cell_type": "code",
   "execution_count": 91,
   "id": "cf172c99-e381-4ae3-a1b9-1f99f92bfd5c",
   "metadata": {},
   "outputs": [
    {
     "name": "stdout",
     "output_type": "stream",
     "text": [
      "updated list: [1, 20, 3]\n"
     ]
    }
   ],
   "source": [
    "#changing an element in the list\n",
    "my_list[1] = 20 #this works because list are mutable\n",
    "print(\"updated list:\",my_list)"
   ]
  },
  {
   "cell_type": "code",
   "execution_count": 95,
   "id": "77c3344d-d695-428e-a0b0-ae27da3a4642",
   "metadata": {},
   "outputs": [],
   "source": [
    "#Attempting to change an element in the tuple "
   ]
  },
  {
   "cell_type": "code",
   "execution_count": 101,
   "id": "0fca5316-1b32-47b4-a68f-8e937db3593b",
   "metadata": {},
   "outputs": [
    {
     "name": "stdout",
     "output_type": "stream",
     "text": [
      "Error:\n"
     ]
    }
   ],
   "source": [
    "#my_tuple[1] = 20 #this raises a typeError because tuples are immutable\n",
    "print(\"Error:\",)"
   ]
  },
  {
   "cell_type": "raw",
   "id": "c1d26ef9-744d-4ad7-80da-adab8b337527",
   "metadata": {},
   "source": [
    "6.Write a function to demonstrate the behavior of mutable and immutable arguments."
   ]
  },
  {
   "cell_type": "code",
   "execution_count": 5,
   "id": "64ea1b57-61fa-40b4-aac1-b8c63176550b",
   "metadata": {},
   "outputs": [
    {
     "name": "stdout",
     "output_type": "stream",
     "text": [
      "Outside function (before calling): [1, 2, 3]\n",
      "Inside function (before modification): [1, 2, 3]\n",
      "Inside function (after modification): [1, 2, 3, 4]\n",
      "Outside funtion (after calling): [1, 2, 3, 4]\n",
      "Outside function (before calling): hello\n",
      "Inside function (before modification): hello\n",
      "Inside function (after modification): hello world\n",
      "Outside function (after calling): hello\n"
     ]
    }
   ],
   "source": [
    "def modify_list(my_list):\n",
    "    \"\"\"Demonstrates the behavior of a mutable argument.\"\"\"\n",
    "    print(\"Inside function (before modification):\", my_list)   #output the original list within the function\n",
    "    my_list.append(4)  #Modify the list by adding an element \n",
    "    print(\"Inside function (after modification):\", my_list)    #output the modified list within the function\n",
    "\n",
    "def modify_string(my_string):\n",
    "    \"\"\"Demonstrates the behavior of an immutable argument,\"\"\"\n",
    "    print(\"Inside function (before modification):\", my_string)   #output the original string within the function\n",
    "    my_string += \" world\"  #Attempt to modify the string (create a new string object)\n",
    "    print(\"Inside function (after modification):\", my_string)    #output the original string within the function\n",
    "\n",
    "#Example usage for mutable arguments\n",
    "my_list = [1,2,3]\n",
    "print(\"Outside function (before calling):\", my_list)        #output the original list outside the function\n",
    "modify_list(my_list)\n",
    "print(\"Outside funtion (after calling):\", my_list)          #output the list after the function call (modified)\n",
    "\n",
    "#Example usage for immutable arguments\n",
    "my_string = \"hello\"\n",
    "print(\"Outside function (before calling):\", my_string)      #output the original string outside the function\n",
    "modify_string(my_string)\n",
    "print(\"Outside function (after calling):\", my_string)       #output the string after the function call (original, unchanged)"
   ]
  },
  {
   "cell_type": "raw",
   "id": "780909d6-39e3-48fe-afe5-4ff18b5ebf7e",
   "metadata": {},
   "source": [
    "7.Write a function to demonstrate the behavior of mutable and immutable arguments."
   ]
  },
  {
   "cell_type": "code",
   "execution_count": 7,
   "id": "f2af1a7e-0fcc-4f06-8758-774474ddf219",
   "metadata": {},
   "outputs": [
    {
     "name": "stdout",
     "output_type": "stream",
     "text": [
      "Outside function (before calling): [1, 2, 3]\n",
      "Inside function (before modification): [1, 2, 3]\n",
      "Inside function (after modification): [1, 2, 3, 4]\n",
      "Outside funtion (after calling): [1, 2, 3, 4]\n",
      "Outside function (before calling): hello\n",
      "Inside function (before modification): hello\n",
      "Inside function (after modification): hello world\n",
      "Outside function (after calling): hello\n"
     ]
    }
   ],
   "source": [
    "def modify_list(my_list):\n",
    "    \"\"\"Demonstrates the behavior of a mutable argument.\"\"\"\n",
    "    print(\"Inside function (before modification):\", my_list)   #output the original list within the function\n",
    "    my_list.append(4)  #Modify the list by adding an element \n",
    "    print(\"Inside function (after modification):\", my_list)    #output the modified list within the function\n",
    "\n",
    "def modify_string(my_string):\n",
    "    \"\"\"Demonstrates the behavior of an immutable argument,\"\"\"\n",
    "    print(\"Inside function (before modification):\", my_string)   #output the original string within the function\n",
    "    my_string += \" world\"  #Attempt to modify the string (create a new string object)\n",
    "    print(\"Inside function (after modification):\", my_string)    #output the original string within the function\n",
    "\n",
    "#Example usage for mutable arguments\n",
    "my_list = [1,2,3]\n",
    "print(\"Outside function (before calling):\", my_list)        #output the original list outside the function\n",
    "modify_list(my_list)\n",
    "print(\"Outside funtion (after calling):\", my_list)          #output the list after the function call (modified)\n",
    "\n",
    "#Example usage for immutable arguments\n",
    "my_string = \"hello\"\n",
    "print(\"Outside function (before calling):\", my_string)      #output the original string outside the function\n",
    "modify_string(my_string)\n",
    "print(\"Outside function (after calling):\", my_string)       #output the string after the function call (original, unchanged)"
   ]
  },
  {
   "cell_type": "raw",
   "id": "97c88553-e565-4a63-94ab-d78650133dac",
   "metadata": {},
   "source": [
    "8.Write a program to demonstrate the use of logical operators."
   ]
  },
  {
   "cell_type": "code",
   "execution_count": 9,
   "id": "5df4ee93-728c-4d26-9ee4-07b7971ab01f",
   "metadata": {},
   "outputs": [
    {
     "name": "stdin",
     "output_type": "stream",
     "text": [
      "Enter the first number (a): 5\n",
      "Enter the second number (b): 10\n"
     ]
    },
    {
     "name": "stdout",
     "output_type": "stream",
     "text": [
      "Both a and b are positive numbers.\n",
      "At least one a or b is an even number.\n",
      "a and b are not equal.\n",
      "\n",
      "Summary:\n",
      "a > 0 and b > 0: True\n",
      "a%2==0 or b%2==0:True\n",
      "not(a==b): True\n"
     ]
    }
   ],
   "source": [
    "a=int(input(\"Enter the first number (a):\"))\n",
    "b=int(input(\"Enter the second number (b):\"))\n",
    "#Logical AND \n",
    "if a>0 and b>0:\n",
    "    print(\"Both a and b are positive numbers.\")\n",
    "else:\n",
    "    print:(\"Either a and b is not positive.\")\n",
    "#Logical OR\n",
    "if a%2==0 or b%2==0:\n",
    "    print(\"At least one a or b is an even number.\")\n",
    "else:\n",
    "    print:(\"Both a and b are odd numbers.\")\n",
    "#Logical NOT\n",
    "if not (a==b):\n",
    "    print(\"a and b are not equal.\")\n",
    "else:\n",
    "    print(\"a and b are equal.\")\n",
    "#Display results for clarity\n",
    "print(\"\\nSummary:\")\n",
    "print(f\"a > 0 and b > 0: {a > 0 and b > 0}\")\n",
    "print(f\"a%2==0 or b%2==0:{a%2==0 or b%2==0}\")\n",
    "print(f\"not(a==b): {not(a==b)}\")"
   ]
  },
  {
   "cell_type": "raw",
   "id": "5c8ba9f1-f612-4ebb-ab25-111c5f2fd1f5",
   "metadata": {},
   "source": [
    "9.Write a Python program to convert user input from string to integer, float, and boolean types."
   ]
  },
  {
   "cell_type": "code",
   "execution_count": 11,
   "id": "42861306-34d3-44e8-89b0-41f3bee9ae82",
   "metadata": {},
   "outputs": [
    {
     "name": "stdin",
     "output_type": "stream",
     "text": [
      "Enter a value: 123\n"
     ]
    },
    {
     "name": "stdout",
     "output_type": "stream",
     "text": [
      "integer:123\n",
      "Float:123.0\n",
      "Boolean value: True\n"
     ]
    }
   ],
   "source": [
    "user_input=input(\"Enter a value:\")\n",
    "\n",
    "try:\n",
    "    int_value = int(user_input)\n",
    "    print(f\"integer:{int_value}\")\n",
    "except ValueError:\n",
    "    print(\"Cannot convert to integer.\")\n",
    "\n",
    "try:\n",
    "    float_value = float(user_input)\n",
    "    print(f\"Float:{float_value}\")\n",
    "except ValueError:\n",
    "    print(\"Cannot convert to float.\")\n",
    "\n",
    "bool_value = user_input.strip() != \"\"\n",
    "print(f\"Boolean value: {bool_value}\")"
   ]
  },
  {
   "cell_type": "raw",
   "id": "743b3043-3ca1-401f-9776-ef9f1ce8c745",
   "metadata": {},
   "source": [
    "10.Write code to demonstrate type casting with list elements."
   ]
  },
  {
   "cell_type": "code",
   "execution_count": 13,
   "id": "6b53ebd4-ba8a-4d92-9f0c-a4b8e8e34b75",
   "metadata": {},
   "outputs": [
    {
     "name": "stdout",
     "output_type": "stream",
     "text": [
      "Cannot convert 'True' to integer.\n",
      "Cannot convert 'False' to integer.\n",
      "List after converting to integers:,int_list.\n",
      "Cannot convert 'True'to float.\n",
      "Cannot convert 'False'to float.\n",
      "List after converting to floats: [1.0, 2.0, 3.5, 4.8]\n",
      "List after converting to booleans: [True, True, True, True, True, False]\n"
     ]
    }
   ],
   "source": [
    "#original list of strings\n",
    "string_list=[\"1\",\"2\",\"3.5\",\"4.8\",\"True\",\"False\"]\n",
    "int_list=[]\n",
    "for item in string_list:\n",
    "    try:\n",
    "        int_list.append(int(float(item)))\n",
    "    except ValueError:\n",
    "        print(f\"Cannot convert '{item}' to integer.\")\n",
    "        \n",
    "print(\"List after converting to integers:,int_list.\")\n",
    "#convert elements to floats\n",
    "float_list = []\n",
    "for item in string_list:\n",
    "    try:\n",
    "        float_list.append(float(item))\n",
    "    except ValueError:\n",
    "        print(f\"Cannot convert '{item}'to float.\")\n",
    "print(\"List after converting to floats:\",float_list)\n",
    "\n",
    "#convert elements to booleans\n",
    "bool_list = [item.lower()not in [\"false\",\"0\", \"\"]\n",
    "for item in string_list]\n",
    "print(\"List after converting to booleans:\",\n",
    "      bool_list)"
   ]
  },
  {
   "cell_type": "raw",
   "id": "754b1864-3384-4f7d-b6ae-c75e4cf23516",
   "metadata": {},
   "source": [
    "11.Write a program that checks if a number is positive, negative, or zero."
   ]
  },
  {
   "cell_type": "code",
   "execution_count": 15,
   "id": "dedd4faf-90bd-4294-b4c6-02af61f1bc01",
   "metadata": {},
   "outputs": [
    {
     "name": "stdin",
     "output_type": "stream",
     "text": [
      "Enter a number: 5\n"
     ]
    },
    {
     "name": "stdout",
     "output_type": "stream",
     "text": [
      "The number is zero.\n"
     ]
    }
   ],
   "source": [
    "#Get input from the user\n",
    "try:\n",
    "    number=float(input(\"Enter a number:\"))\n",
    "\n",
    "#check the number's status\n",
    "except number>0:\n",
    "    print(\"The number is positive.\")\n",
    "if number<0:\n",
    "    print(\"The number is negative.\")\n",
    "else:\n",
    "    print(\"The number is zero.\")"
   ]
  },
  {
   "cell_type": "raw",
   "id": "3993f588-5032-4127-9291-4439acd0a9cb",
   "metadata": {},
   "source": [
    "12.Write a for loop to print numbers from 1 to 10."
   ]
  },
  {
   "cell_type": "code",
   "execution_count": 17,
   "id": "04c31e26-8699-4b7d-bc35-29eeb8ec50f2",
   "metadata": {},
   "outputs": [
    {
     "name": "stdout",
     "output_type": "stream",
     "text": [
      "1\n",
      "2\n",
      "3\n",
      "4\n",
      "5\n",
      "6\n",
      "7\n",
      "8\n",
      "9\n",
      "10\n"
     ]
    }
   ],
   "source": [
    "#using a for loop to print numbers from 1 to 10\n",
    "for number in range (1,11):\n",
    "    print(number)"
   ]
  },
  {
   "cell_type": "raw",
   "id": "6bb61ecf-a6ad-41d1-872e-4af3bac7f099",
   "metadata": {},
   "source": [
    "13.Write a Python program to find the sum of all even numbers between 1 and 50."
   ]
  },
  {
   "cell_type": "code",
   "execution_count": 19,
   "id": "0e5b6bb3-3892-4198-b3e0-2b136b74264a",
   "metadata": {},
   "outputs": [
    {
     "name": "stdout",
     "output_type": "stream",
     "text": [
      "The sum of all even numbers between 1 and 50 is: 650\n"
     ]
    }
   ],
   "source": [
    "#use range to iterate through the even numbers directly\n",
    "sum_even=sum(range(2,51,2))\n",
    "\n",
    "#Display the result \n",
    "print(\"The sum of all even numbers between 1 and 50 is:\",sum_even)\n"
   ]
  },
  {
   "cell_type": "raw",
   "id": "18c7ab85-3515-4e95-93b6-69883b7ee991",
   "metadata": {},
   "source": [
    "14.Write a program to reverse a string using a while loop."
   ]
  },
  {
   "cell_type": "code",
   "execution_count": null,
   "id": "330f6fc4-dd11-42ad-8826-addf3bfedb11",
   "metadata": {},
   "outputs": [],
   "source": [
    "#Get input from the user \n",
    "original_string=input(\"Enter a string:\")\n",
    "\n",
    "#Intialize variables\n",
    "reversed_string = \"\"\n",
    "index = len(original_string) -1 #start from the last character\n",
    "\n",
    "#use a while loop to reverse the string\n",
    "while index >=0:\n",
    "    reversed_string += original_string[index] #Append current character to the reversed string \n",
    "index -= 1 #Move to the previous character \n",
    "\n",
    "#Display the reversed string\n",
    "print(\"Reversed string:\", reversed_string)"
   ]
  },
  {
   "cell_type": "raw",
   "id": "249ed916-e665-459a-9806-083a05ad73a9",
   "metadata": {},
   "source": [
    "15.Write a Python program to calculate the factorial of a number provided by the user using a while loop."
   ]
  },
  {
   "cell_type": "code",
   "execution_count": null,
   "id": "c4660e5b-594d-4e28-b505-870b19330ecb",
   "metadata": {},
   "outputs": [],
   "source": [
    "#Get input from the user\n",
    "number=int(input(\"Enter a number:\"))\n",
    "\n",
    "#Intialize factorial result \n",
    "factorial=1\n",
    "\n",
    "#Handle case where number is 0 (since 0!=1)\n",
    "if number==0:\n",
    "    print(\"The factorial of 0 is 1.\")\n",
    "else:\n",
    "    #use a while loop to calculate factorial "
   ]
  }
 ],
 "metadata": {
  "kernelspec": {
   "display_name": "Python 3 (ipykernel)",
   "language": "python",
   "name": "python3"
  },
  "language_info": {
   "codemirror_mode": {
    "name": "ipython",
    "version": 3
   },
   "file_extension": ".py",
   "mimetype": "text/x-python",
   "name": "python",
   "nbconvert_exporter": "python",
   "pygments_lexer": "ipython3",
   "version": "3.12.7"
  }
 },
 "nbformat": 4,
 "nbformat_minor": 5
}
